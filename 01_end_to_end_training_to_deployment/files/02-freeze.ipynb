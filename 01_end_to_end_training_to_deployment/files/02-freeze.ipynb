{
 "cells": [
  {
   "cell_type": "code",
   "execution_count": 1,
   "id": "lovely-stationery",
   "metadata": {},
   "outputs": [],
   "source": [
    "#!pip install tensorflow_hub"
   ]
  },
  {
   "cell_type": "code",
   "execution_count": 2,
   "id": "changed-quarter",
   "metadata": {},
   "outputs": [],
   "source": [
    "import os\n",
    "import sys\n",
    "import argparse\n",
    "import numpy as np\n",
    "\n",
    "import tensorflow as tf\n",
    "from tensorflow.keras.preprocessing.image import ImageDataGenerator\n",
    "import tensorflow_hub as hub\n",
    "from pathlib import Path\n",
    "import pandas as pd\n",
    "import glob\n",
    "from sklearn.preprocessing import MultiLabelBinarizer\n",
    "from sklearn.utils import class_weight\n",
    "import multiprocessing\n",
    "import numpy as np\n",
    "import json as json\n",
    "from tensorflow.python.tools import freeze_graph\n",
    "from tensorflow.keras.utils import plot_model, to_categorical"
   ]
  },
  {
   "cell_type": "code",
   "execution_count": 3,
   "id": "still-thesaurus",
   "metadata": {},
   "outputs": [],
   "source": [
    "input_height = 224\n",
    "input_width = 224\n",
    "input_chan = 3\n",
    "epochs = 1\n",
    "learnrate =0.1\n",
    "batchsize = 100\n",
    "output_ckpt_path = './build/chkpts/float_model.ckpt'\n",
    "infer_graph_path = './build/chkpts/inference_graph.pb'\n",
    "tboard_path = './build/tb_logs'\n",
    "num_classes = 43\n",
    "\n",
    "# Set up directories and files\n",
    "INFER_GRAPH_DIR = os.path.dirname(infer_graph_path)\n",
    "INFER_GRAPH_FILENAME =os.path.basename(infer_graph_path)"
   ]
  },
  {
   "cell_type": "code",
   "execution_count": null,
   "id": "powerful-number",
   "metadata": {
    "scrolled": true
   },
   "outputs": [],
   "source": [
    "freeze_graph.freeze_graph(\n",
    "                      None,\n",
    "                      None,\n",
    "                      None,\n",
    "                      None,\n",
    "                      'dense/Sigmoid',\n",
    "                      None,\n",
    "                      None,\n",
    "                      os.path.join(INFER_GRAPH_DIR, \"frozen_model.pb\"),\n",
    "                      False,\n",
    "                      \"\",\n",
    "                      input_saved_model_dir='build/chkpts/final_model.ckpt')"
   ]
  }
 ],
 "metadata": {
  "kernelspec": {
   "display_name": "Python 3",
   "language": "python",
   "name": "python3"
  },
  "language_info": {
   "codemirror_mode": {
    "name": "ipython",
    "version": 3
   },
   "file_extension": ".py",
   "mimetype": "text/x-python",
   "name": "python",
   "nbconvert_exporter": "python",
   "pygments_lexer": "ipython3",
   "version": "3.6.12"
  }
 },
 "nbformat": 4,
 "nbformat_minor": 5
}
